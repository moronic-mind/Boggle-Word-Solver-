{
 "cells": [
  {
   "cell_type": "code",
   "execution_count": 6,
   "metadata": {},
   "outputs": [],
   "source": [
    "class Tree():\n",
    "    def __init__(self,letter= None):\n",
    "        self.letter = letter\n",
    "        self.children = {}\n",
    "        self.leaf =False\n",
    "    \n",
    "    def add(self,word):\n",
    "        if len(word):\n",
    "            letter = word[0]\n",
    "            word=word[1:]\n",
    "            if letter not in self.children:\n",
    "                self.children[letter]=Tree(letter)\n",
    "            return self.children[letter].add(word)\n",
    "        else:\n",
    "            self.leaf =True\n",
    "            return self\n",
    "\n",
    "    def search (self, letter):\n",
    "        if letter not in self.children:\n",
    "            return None\n",
    "        return self.children[letter]"
   ]
  },
  {
   "cell_type": "code",
   "execution_count": 8,
   "metadata": {},
   "outputs": [],
   "source": [
    "def findWord(board, tree, validated, row, col, path = None,currLetter = None, word=None):\n",
    "        letter = board[row][col]\n",
    "        if path is None or currLetter is None or word is None:\n",
    "            currLetter = tree.search(letter)\n",
    "            path = [(row, col)]\n",
    "            word=letter\n",
    "        else:\n",
    "            currLetter =currLetter.search(letter)\n",
    "            path.append((row, col))\n",
    "            word= word+ letter\n",
    "\n",
    "        # Base Cases\n",
    "        if currLetter is None:\n",
    "            return\n",
    "        if currLetter.leaf:\n",
    "            validated.add(word)\n",
    "        \n",
    "        #recursive call\n",
    "        for r in range(row-1 ,row+2):\n",
    "            for c in range(col-1,col+2):\n",
    "                if (r>=0 and r<4 and c>=0 and c<4 and r != row and c!= col and (r,c) not in path):\n",
    "                    findWord(board, tree, validated, r,c, path[:], currLetter, word[:])\n"
   ]
  },
  {
   "cell_type": "code",
   "execution_count": 9,
   "metadata": {},
   "outputs": [
    {
     "name": "stdin",
     "output_type": "stream",
     "text": [
      " q\n",
      " w\n",
      " e\n",
      " r\n",
      " t\n",
      " y\n",
      " u\n",
      " i\n",
      " o\n",
      " p\n",
      " a\n",
      " s\n",
      " d\n",
      " f\n",
      " g\n",
      " h\n"
     ]
    },
    {
     "name": "stdout",
     "output_type": "stream",
     "text": [
      "Q W E R \n",
      "T Y U I \n",
      "O P A S \n",
      "D F G H \n",
      "AYE\n",
      "FAH\n",
      "FAY\n",
      "FOY\n",
      "HAY\n",
      "OFAY\n",
      "OYE\n",
      "PUR\n",
      "PUS\n",
      "SUP\n",
      "SUR\n",
      "WUS\n",
      "YAH\n"
     ]
    }
   ],
   "source": [
    "board = []\n",
    "for i in range(0,4):\n",
    "    board.append([])\n",
    "    for j in range(0,4):\n",
    "        board[i].append(input().strip().upper())\n",
    "    \n",
    "for i in range(0,4):\n",
    "    for j in range(0,4):\n",
    "        print(board[i][j], end = \" \")\n",
    "    print()\n",
    "    \n",
    "dict= open('dictionary-yawl.txt',\"r\")\n",
    "\n",
    "tree =  Tree()\n",
    "for line in dict:\n",
    "    word= line.rstrip().upper()\n",
    "    tree.add(word)\n",
    "          \n",
    "# set to store strings that match valid words found in dict\n",
    "validated = set()\n",
    "\n",
    "# call the findWords function from each grid\n",
    "for row in range(0,4):\n",
    "    for col in range(0,4):\n",
    "        findWord(board, tree, validated, row, col)\n",
    "\n",
    "# print out valid words\n",
    "for word in sorted(validated):\n",
    "    if len(word)>2:\n",
    "        print(word)"
   ]
  },
  {
   "cell_type": "code",
   "execution_count": null,
   "metadata": {},
   "outputs": [],
   "source": []
  }
 ],
 "metadata": {
  "kernelspec": {
   "display_name": "Python 3",
   "language": "python",
   "name": "python3"
  },
  "language_info": {
   "codemirror_mode": {
    "name": "ipython",
    "version": 3
   },
   "file_extension": ".py",
   "mimetype": "text/x-python",
   "name": "python",
   "nbconvert_exporter": "python",
   "pygments_lexer": "ipython3",
   "version": "3.7.0"
  }
 },
 "nbformat": 4,
 "nbformat_minor": 2
}
